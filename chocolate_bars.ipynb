{
 "cells": [
  {
   "cell_type": "markdown",
   "id": "d3657e2f",
   "metadata": {},
   "source": [
    "# Description\n",
    "\n",
    "Data for the current project were downloaded from :\n",
    "\n",
    "https://www.kaggle.com/datasets/evangower/chocolate-bar-ratings\n",
    "\n",
    "I am grateful to Evan Gower for compiling this amazing and sweet dataset, check his kaggle.\n",
    "https://www.kaggle.com/evangower\n",
    "\n",
    "\n",
    "The chocolate bars dataser contains data about various manufacturers of chocolate bars across the world, the cocoa_percent contained in the bars they manufacture, the various ingredients used, the country of origin of the cocoa beans used and the overall rating of their product.  The dataset is focused on plain dark chocolate "
   ]
  },
  {
   "cell_type": "code",
   "execution_count": 97,
   "id": "67cfe1b6",
   "metadata": {},
   "outputs": [],
   "source": [
    "library(tidyverse)\n",
    "options(digits=4)\n",
    "options(warn=-1) #generally not recommended, i put that option after making sure everything is running ok."
   ]
  },
  {
   "cell_type": "code",
   "execution_count": 5,
   "id": "3f7a52eb",
   "metadata": {},
   "outputs": [],
   "source": [
    "df=read.csv(\"chocolate_bars.csv\")"
   ]
  },
  {
   "cell_type": "code",
   "execution_count": 29,
   "id": "c8a805d6",
   "metadata": {},
   "outputs": [
    {
     "data": {
      "text/plain": [
       "       id       manufacturer       company_location   year_reviewed \n",
       " Min.   :   5   Length:2530        Length:2530        Min.   :2006  \n",
       " 1st Qu.: 802   Class :character   Class :character   1st Qu.:2012  \n",
       " Median :1454   Mode  :character   Mode  :character   Median :2015  \n",
       " Mean   :1430                                         Mean   :2014  \n",
       " 3rd Qu.:2079                                         3rd Qu.:2018  \n",
       " Max.   :2712                                         Max.   :2021  \n",
       "                                                                    \n",
       " bean_origin          bar_name         cocoa_percent    num_ingredients\n",
       " Length:2530        Length:2530        Min.   : 42.00   Min.   :1.000  \n",
       " Class :character   Class :character   1st Qu.: 70.00   1st Qu.:2.000  \n",
       " Mode  :character   Mode  :character   Median : 70.00   Median :3.000  \n",
       "                                       Mean   : 71.64   Mean   :3.041  \n",
       "                                       3rd Qu.: 74.00   3rd Qu.:4.000  \n",
       "                                       Max.   :100.00   Max.   :6.000  \n",
       "                                                        NA's   :87     \n",
       " ingredients           review              rating     \n",
       " Length:2530        Length:2530        Min.   :1.000  \n",
       " Class :character   Class :character   1st Qu.:3.000  \n",
       " Mode  :character   Mode  :character   Median :3.250  \n",
       "                                       Mean   :3.196  \n",
       "                                       3rd Qu.:3.500  \n",
       "                                       Max.   :4.000  \n",
       "                                                      "
      ]
     },
     "metadata": {},
     "output_type": "display_data"
    }
   ],
   "source": [
    "summary(df)"
   ]
  },
  {
   "cell_type": "code",
   "execution_count": 30,
   "id": "05db0ffb",
   "metadata": {},
   "outputs": [
    {
     "data": {
      "text/html": [
       "<style>\n",
       ".dl-inline {width: auto; margin:0; padding: 0}\n",
       ".dl-inline>dt, .dl-inline>dd {float: none; width: auto; display: inline-block}\n",
       ".dl-inline>dt::after {content: \":\\0020\"; padding-right: .5ex}\n",
       ".dl-inline>dt:not(:first-of-type) {padding-left: .5ex}\n",
       "</style><dl class=dl-inline><dt>id</dt><dd>0</dd><dt>manufacturer</dt><dd>0</dd><dt>company_location</dt><dd>0</dd><dt>year_reviewed</dt><dd>0</dd><dt>bean_origin</dt><dd>0</dd><dt>bar_name</dt><dd>0</dd><dt>cocoa_percent</dt><dd>0</dd><dt>num_ingredients</dt><dd>87</dd><dt>ingredients</dt><dd>0</dd><dt>review</dt><dd>0</dd><dt>rating</dt><dd>0</dd></dl>\n"
      ],
      "text/latex": [
       "\\begin{description*}\n",
       "\\item[id] 0\n",
       "\\item[manufacturer] 0\n",
       "\\item[company\\textbackslash{}\\_location] 0\n",
       "\\item[year\\textbackslash{}\\_reviewed] 0\n",
       "\\item[bean\\textbackslash{}\\_origin] 0\n",
       "\\item[bar\\textbackslash{}\\_name] 0\n",
       "\\item[cocoa\\textbackslash{}\\_percent] 0\n",
       "\\item[num\\textbackslash{}\\_ingredients] 87\n",
       "\\item[ingredients] 0\n",
       "\\item[review] 0\n",
       "\\item[rating] 0\n",
       "\\end{description*}\n"
      ],
      "text/markdown": [
       "id\n",
       ":   0manufacturer\n",
       ":   0company_location\n",
       ":   0year_reviewed\n",
       ":   0bean_origin\n",
       ":   0bar_name\n",
       ":   0cocoa_percent\n",
       ":   0num_ingredients\n",
       ":   87ingredients\n",
       ":   0review\n",
       ":   0rating\n",
       ":   0\n",
       "\n"
      ],
      "text/plain": [
       "              id     manufacturer company_location    year_reviewed \n",
       "               0                0                0                0 \n",
       "     bean_origin         bar_name    cocoa_percent  num_ingredients \n",
       "               0                0                0               87 \n",
       "     ingredients           review           rating \n",
       "               0                0                0 "
      ]
     },
     "metadata": {},
     "output_type": "display_data"
    }
   ],
   "source": [
    "df %>% mutate_all(is.na) %>% colSums"
   ]
  },
  {
   "cell_type": "markdown",
   "id": "1be37722",
   "metadata": {},
   "source": [
    "Our dataset is fairly clean. Only the num_ingredients column contains NA's"
   ]
  },
  {
   "cell_type": "code",
   "execution_count": 15,
   "id": "1a115424",
   "metadata": {},
   "outputs": [
    {
     "data": {
      "text/html": [
       "<table class=\"dataframe\">\n",
       "<caption>A data.frame: 6 × 2</caption>\n",
       "<thead>\n",
       "\t<tr><th></th><th scope=col>company_location</th><th scope=col>n</th></tr>\n",
       "\t<tr><th></th><th scope=col>&lt;chr&gt;</th><th scope=col>&lt;int&gt;</th></tr>\n",
       "</thead>\n",
       "<tbody>\n",
       "\t<tr><th scope=row>1</th><td>U.S.A. </td><td>1136</td></tr>\n",
       "\t<tr><th scope=row>2</th><td>Canada </td><td> 177</td></tr>\n",
       "\t<tr><th scope=row>3</th><td>France </td><td> 176</td></tr>\n",
       "\t<tr><th scope=row>4</th><td>U.K.   </td><td> 133</td></tr>\n",
       "\t<tr><th scope=row>5</th><td>Italy  </td><td>  78</td></tr>\n",
       "\t<tr><th scope=row>6</th><td>Belgium</td><td>  63</td></tr>\n",
       "</tbody>\n",
       "</table>\n"
      ],
      "text/latex": [
       "A data.frame: 6 × 2\n",
       "\\begin{tabular}{r|ll}\n",
       "  & company\\_location & n\\\\\n",
       "  & <chr> & <int>\\\\\n",
       "\\hline\n",
       "\t1 & U.S.A.  & 1136\\\\\n",
       "\t2 & Canada  &  177\\\\\n",
       "\t3 & France  &  176\\\\\n",
       "\t4 & U.K.    &  133\\\\\n",
       "\t5 & Italy   &   78\\\\\n",
       "\t6 & Belgium &   63\\\\\n",
       "\\end{tabular}\n"
      ],
      "text/markdown": [
       "\n",
       "A data.frame: 6 × 2\n",
       "\n",
       "| <!--/--> | company_location &lt;chr&gt; | n &lt;int&gt; |\n",
       "|---|---|---|\n",
       "| 1 | U.S.A.  | 1136 |\n",
       "| 2 | Canada  |  177 |\n",
       "| 3 | France  |  176 |\n",
       "| 4 | U.K.    |  133 |\n",
       "| 5 | Italy   |   78 |\n",
       "| 6 | Belgium |   63 |\n",
       "\n"
      ],
      "text/plain": [
       "  company_location n   \n",
       "1 U.S.A.           1136\n",
       "2 Canada            177\n",
       "3 France            176\n",
       "4 U.K.              133\n",
       "5 Italy              78\n",
       "6 Belgium            63"
      ]
     },
     "metadata": {},
     "output_type": "display_data"
    }
   ],
   "source": [
    "df %>% count(company_location) %>% arrange(desc(n))  %>% head()"
   ]
  },
  {
   "cell_type": "code",
   "execution_count": 18,
   "id": "c933e71c",
   "metadata": {},
   "outputs": [
    {
     "ename": "ERROR",
     "evalue": "Error in FUN(left, right): non-numeric argument to binary operator\n",
     "output_type": "error",
     "traceback": [
      "Error in FUN(left, right): non-numeric argument to binary operator\nTraceback:\n",
      "1. Ops.data.frame((df %>% count(company_location) %>% arrange(desc(n)) %>% \n .     slice(1)), 2)",
      "2. eval(f)",
      "3. eval(f)"
     ]
    }
   ],
   "source": [
    "(df %>% count(company_location) %>% arrange(desc(n))  %>% slice(1))/2"
   ]
  },
  {
   "cell_type": "markdown",
   "id": "37d07d3e",
   "metadata": {},
   "source": [
    "As we can see most companies are located in the U.S.A. Lets see where most companies get their beans from"
   ]
  },
  {
   "cell_type": "code",
   "execution_count": 22,
   "id": "b2317656",
   "metadata": {},
   "outputs": [
    {
     "data": {
      "text/html": [
       "<table class=\"dataframe\">\n",
       "<caption>A data.frame: 10 × 2</caption>\n",
       "<thead>\n",
       "\t<tr><th></th><th scope=col>bean_origin</th><th scope=col>n</th></tr>\n",
       "\t<tr><th></th><th scope=col>&lt;chr&gt;</th><th scope=col>&lt;int&gt;</th></tr>\n",
       "</thead>\n",
       "<tbody>\n",
       "\t<tr><th scope=row>1</th><td>Venezuela         </td><td>253</td></tr>\n",
       "\t<tr><th scope=row>2</th><td>Peru              </td><td>244</td></tr>\n",
       "\t<tr><th scope=row>3</th><td>Dominican Republic</td><td>226</td></tr>\n",
       "\t<tr><th scope=row>4</th><td>Ecuador           </td><td>219</td></tr>\n",
       "\t<tr><th scope=row>5</th><td>Madagascar        </td><td>177</td></tr>\n",
       "\t<tr><th scope=row>6</th><td>Blend             </td><td>156</td></tr>\n",
       "\t<tr><th scope=row>7</th><td>Nicaragua         </td><td>100</td></tr>\n",
       "\t<tr><th scope=row>8</th><td>Bolivia           </td><td> 80</td></tr>\n",
       "\t<tr><th scope=row>9</th><td>Colombia          </td><td> 79</td></tr>\n",
       "\t<tr><th scope=row>10</th><td>Tanzania          </td><td> 79</td></tr>\n",
       "</tbody>\n",
       "</table>\n"
      ],
      "text/latex": [
       "A data.frame: 10 × 2\n",
       "\\begin{tabular}{r|ll}\n",
       "  & bean\\_origin & n\\\\\n",
       "  & <chr> & <int>\\\\\n",
       "\\hline\n",
       "\t1 & Venezuela          & 253\\\\\n",
       "\t2 & Peru               & 244\\\\\n",
       "\t3 & Dominican Republic & 226\\\\\n",
       "\t4 & Ecuador            & 219\\\\\n",
       "\t5 & Madagascar         & 177\\\\\n",
       "\t6 & Blend              & 156\\\\\n",
       "\t7 & Nicaragua          & 100\\\\\n",
       "\t8 & Bolivia            &  80\\\\\n",
       "\t9 & Colombia           &  79\\\\\n",
       "\t10 & Tanzania           &  79\\\\\n",
       "\\end{tabular}\n"
      ],
      "text/markdown": [
       "\n",
       "A data.frame: 10 × 2\n",
       "\n",
       "| <!--/--> | bean_origin &lt;chr&gt; | n &lt;int&gt; |\n",
       "|---|---|---|\n",
       "| 1 | Venezuela          | 253 |\n",
       "| 2 | Peru               | 244 |\n",
       "| 3 | Dominican Republic | 226 |\n",
       "| 4 | Ecuador            | 219 |\n",
       "| 5 | Madagascar         | 177 |\n",
       "| 6 | Blend              | 156 |\n",
       "| 7 | Nicaragua          | 100 |\n",
       "| 8 | Bolivia            |  80 |\n",
       "| 9 | Colombia           |  79 |\n",
       "| 10 | Tanzania           |  79 |\n",
       "\n"
      ],
      "text/plain": [
       "   bean_origin        n  \n",
       "1  Venezuela          253\n",
       "2  Peru               244\n",
       "3  Dominican Republic 226\n",
       "4  Ecuador            219\n",
       "5  Madagascar         177\n",
       "6  Blend              156\n",
       "7  Nicaragua          100\n",
       "8  Bolivia             80\n",
       "9  Colombia            79\n",
       "10 Tanzania            79"
      ]
     },
     "metadata": {},
     "output_type": "display_data"
    }
   ],
   "source": [
    "df %>% count(bean_origin) %>% arrange(desc(n))  %>% head(10)"
   ]
  },
  {
   "cell_type": "markdown",
   "id": "16bfabf6",
   "metadata": {},
   "source": [
    "Most companies get their beans from the above Countries. It would be intresting to see the total contribution of the top 5 countries."
   ]
  },
  {
   "cell_type": "code",
   "execution_count": 32,
   "id": "d48394bd",
   "metadata": {},
   "outputs": [
    {
     "data": {
      "text/html": [
       "<table class=\"dataframe\">\n",
       "<caption>A data.frame: 5 × 3</caption>\n",
       "<thead>\n",
       "\t<tr><th></th><th scope=col>bean_origin</th><th scope=col>n</th><th scope=col>cumsum</th></tr>\n",
       "\t<tr><th></th><th scope=col>&lt;chr&gt;</th><th scope=col>&lt;int&gt;</th><th scope=col>&lt;int&gt;</th></tr>\n",
       "</thead>\n",
       "<tbody>\n",
       "\t<tr><th scope=row>1</th><td>Venezuela         </td><td>253</td><td> 253</td></tr>\n",
       "\t<tr><th scope=row>2</th><td>Peru              </td><td>244</td><td> 497</td></tr>\n",
       "\t<tr><th scope=row>3</th><td>Dominican Republic</td><td>226</td><td> 723</td></tr>\n",
       "\t<tr><th scope=row>4</th><td>Ecuador           </td><td>219</td><td> 942</td></tr>\n",
       "\t<tr><th scope=row>5</th><td>Madagascar        </td><td>177</td><td>1119</td></tr>\n",
       "</tbody>\n",
       "</table>\n"
      ],
      "text/latex": [
       "A data.frame: 5 × 3\n",
       "\\begin{tabular}{r|lll}\n",
       "  & bean\\_origin & n & cumsum\\\\\n",
       "  & <chr> & <int> & <int>\\\\\n",
       "\\hline\n",
       "\t1 & Venezuela          & 253 &  253\\\\\n",
       "\t2 & Peru               & 244 &  497\\\\\n",
       "\t3 & Dominican Republic & 226 &  723\\\\\n",
       "\t4 & Ecuador            & 219 &  942\\\\\n",
       "\t5 & Madagascar         & 177 & 1119\\\\\n",
       "\\end{tabular}\n"
      ],
      "text/markdown": [
       "\n",
       "A data.frame: 5 × 3\n",
       "\n",
       "| <!--/--> | bean_origin &lt;chr&gt; | n &lt;int&gt; | cumsum &lt;int&gt; |\n",
       "|---|---|---|---|\n",
       "| 1 | Venezuela          | 253 |  253 |\n",
       "| 2 | Peru               | 244 |  497 |\n",
       "| 3 | Dominican Republic | 226 |  723 |\n",
       "| 4 | Ecuador            | 219 |  942 |\n",
       "| 5 | Madagascar         | 177 | 1119 |\n",
       "\n"
      ],
      "text/plain": [
       "  bean_origin        n   cumsum\n",
       "1 Venezuela          253  253  \n",
       "2 Peru               244  497  \n",
       "3 Dominican Republic 226  723  \n",
       "4 Ecuador            219  942  \n",
       "5 Madagascar         177 1119  "
      ]
     },
     "metadata": {},
     "output_type": "display_data"
    }
   ],
   "source": [
    "df %>% \n",
    "count(bean_origin) %>% arrange(desc(n)) %>% \n",
    "mutate(cumsum=cumsum(n))  %>% head(5)"
   ]
  },
  {
   "cell_type": "code",
   "execution_count": 28,
   "id": "5d832eab",
   "metadata": {},
   "outputs": [
    {
     "data": {
      "text/html": [
       "<table class=\"dataframe\">\n",
       "<caption>A data.frame: 1 × 1</caption>\n",
       "<thead>\n",
       "\t<tr><th scope=col>cumsum</th></tr>\n",
       "\t<tr><th scope=col>&lt;dbl&gt;</th></tr>\n",
       "</thead>\n",
       "<tbody>\n",
       "\t<tr><td>0.4422925</td></tr>\n",
       "</tbody>\n",
       "</table>\n"
      ],
      "text/latex": [
       "A data.frame: 1 × 1\n",
       "\\begin{tabular}{l}\n",
       " cumsum\\\\\n",
       " <dbl>\\\\\n",
       "\\hline\n",
       "\t 0.4422925\\\\\n",
       "\\end{tabular}\n"
      ],
      "text/markdown": [
       "\n",
       "A data.frame: 1 × 1\n",
       "\n",
       "| cumsum &lt;dbl&gt; |\n",
       "|---|\n",
       "| 0.4422925 |\n",
       "\n"
      ],
      "text/plain": [
       "  cumsum   \n",
       "1 0.4422925"
      ]
     },
     "metadata": {},
     "output_type": "display_data"
    }
   ],
   "source": [
    "(df %>% \n",
    "count(bean_origin) %>% arrange(desc(n)) %>% \n",
    "mutate(cumsum=cumsum(n))  %>% head(5)  %>% slice(5)  %>% select(3))/dim(df)[1]"
   ]
  },
  {
   "cell_type": "markdown",
   "id": "aaed41cc",
   "metadata": {},
   "source": [
    "Venezuela, Peru, The Dominican Republic, Ecuador and Magadascar, account for 44.23% of the total bean's countries of origin. Thus, if our dataset is fairly representative of the \"dark chocolate\" market, there is a market segmentation which doesnt differentiate its various products based on the beans used. It would be intresting to see the degree of differentiation of chocolate bars who use beans from the above countries"
   ]
  },
  {
   "cell_type": "markdown",
   "id": "d1d9b3ce",
   "metadata": {},
   "source": [
    "In the same line of thought, it would be intresting to see which bean's countries of origin are found less frequently."
   ]
  },
  {
   "cell_type": "code",
   "execution_count": 33,
   "id": "5894a495",
   "metadata": {},
   "outputs": [
    {
     "data": {
      "text/html": [
       "<table class=\"dataframe\">\n",
       "<caption>A data.frame: 5 × 2</caption>\n",
       "<thead>\n",
       "\t<tr><th></th><th scope=col>bean_origin</th><th scope=col>n</th></tr>\n",
       "\t<tr><th></th><th scope=col>&lt;chr&gt;</th><th scope=col>&lt;int&gt;</th></tr>\n",
       "</thead>\n",
       "<tbody>\n",
       "\t<tr><th scope=row>58</th><td>Principe             </td><td>1</td></tr>\n",
       "\t<tr><th scope=row>59</th><td>St.Vincent-Grenadines</td><td>1</td></tr>\n",
       "\t<tr><th scope=row>60</th><td>Sulawesi             </td><td>1</td></tr>\n",
       "\t<tr><th scope=row>61</th><td>Sumatra              </td><td>1</td></tr>\n",
       "\t<tr><th scope=row>62</th><td>Suriname             </td><td>1</td></tr>\n",
       "</tbody>\n",
       "</table>\n"
      ],
      "text/latex": [
       "A data.frame: 5 × 2\n",
       "\\begin{tabular}{r|ll}\n",
       "  & bean\\_origin & n\\\\\n",
       "  & <chr> & <int>\\\\\n",
       "\\hline\n",
       "\t58 & Principe              & 1\\\\\n",
       "\t59 & St.Vincent-Grenadines & 1\\\\\n",
       "\t60 & Sulawesi              & 1\\\\\n",
       "\t61 & Sumatra               & 1\\\\\n",
       "\t62 & Suriname              & 1\\\\\n",
       "\\end{tabular}\n"
      ],
      "text/markdown": [
       "\n",
       "A data.frame: 5 × 2\n",
       "\n",
       "| <!--/--> | bean_origin &lt;chr&gt; | n &lt;int&gt; |\n",
       "|---|---|---|\n",
       "| 58 | Principe              | 1 |\n",
       "| 59 | St.Vincent-Grenadines | 1 |\n",
       "| 60 | Sulawesi              | 1 |\n",
       "| 61 | Sumatra               | 1 |\n",
       "| 62 | Suriname              | 1 |\n",
       "\n"
      ],
      "text/plain": [
       "   bean_origin           n\n",
       "58 Principe              1\n",
       "59 St.Vincent-Grenadines 1\n",
       "60 Sulawesi              1\n",
       "61 Sumatra               1\n",
       "62 Suriname              1"
      ]
     },
     "metadata": {},
     "output_type": "display_data"
    }
   ],
   "source": [
    "df %>% count(bean_origin) %>% arrange(desc(n))  %>% tail(5)"
   ]
  },
  {
   "cell_type": "code",
   "execution_count": 34,
   "id": "bdf20ddb",
   "metadata": {},
   "outputs": [
    {
     "data": {
      "text/html": [
       "<table class=\"dataframe\">\n",
       "<caption>A data.frame: 5 × 2</caption>\n",
       "<thead>\n",
       "\t<tr><th></th><th scope=col>bean_origin</th><th scope=col>n</th></tr>\n",
       "\t<tr><th></th><th scope=col>&lt;chr&gt;</th><th scope=col>&lt;int&gt;</th></tr>\n",
       "</thead>\n",
       "<tbody>\n",
       "\t<tr><th scope=row>48</th><td>Togo               </td><td>3</td></tr>\n",
       "\t<tr><th scope=row>49</th><td>Sao Tome &amp; Principe</td><td>2</td></tr>\n",
       "\t<tr><th scope=row>50</th><td>Sri Lanka          </td><td>2</td></tr>\n",
       "\t<tr><th scope=row>51</th><td>Taiwan             </td><td>2</td></tr>\n",
       "\t<tr><th scope=row>52</th><td>Tobago             </td><td>2</td></tr>\n",
       "</tbody>\n",
       "</table>\n"
      ],
      "text/latex": [
       "A data.frame: 5 × 2\n",
       "\\begin{tabular}{r|ll}\n",
       "  & bean\\_origin & n\\\\\n",
       "  & <chr> & <int>\\\\\n",
       "\\hline\n",
       "\t48 & Togo                & 3\\\\\n",
       "\t49 & Sao Tome \\& Principe & 2\\\\\n",
       "\t50 & Sri Lanka           & 2\\\\\n",
       "\t51 & Taiwan              & 2\\\\\n",
       "\t52 & Tobago              & 2\\\\\n",
       "\\end{tabular}\n"
      ],
      "text/markdown": [
       "\n",
       "A data.frame: 5 × 2\n",
       "\n",
       "| <!--/--> | bean_origin &lt;chr&gt; | n &lt;int&gt; |\n",
       "|---|---|---|\n",
       "| 48 | Togo                | 3 |\n",
       "| 49 | Sao Tome &amp; Principe | 2 |\n",
       "| 50 | Sri Lanka           | 2 |\n",
       "| 51 | Taiwan              | 2 |\n",
       "| 52 | Tobago              | 2 |\n",
       "\n"
      ],
      "text/plain": [
       "   bean_origin         n\n",
       "48 Togo                3\n",
       "49 Sao Tome & Principe 2\n",
       "50 Sri Lanka           2\n",
       "51 Taiwan              2\n",
       "52 Tobago              2"
      ]
     },
     "metadata": {},
     "output_type": "display_data"
    }
   ],
   "source": [
    "df %>% count(bean_origin) %>% filter(n>1) %>% arrange(desc(n))  %>% tail(5)"
   ]
  },
  {
   "cell_type": "markdown",
   "id": "c522d17e",
   "metadata": {},
   "source": [
    "We can get an overall picture of the various ratings, based on the bean's countries of origin and the various companies location"
   ]
  },
  {
   "cell_type": "code",
   "execution_count": 52,
   "id": "0f43b3cd",
   "metadata": {},
   "outputs": [
    {
     "data": {
      "text/html": [
       "<table class=\"dataframe\">\n",
       "<caption>A tibble: 6 × 3</caption>\n",
       "<thead>\n",
       "\t<tr><th scope=col>bean_origin</th><th scope=col>average_rating</th><th scope=col>n</th></tr>\n",
       "\t<tr><th scope=col>&lt;chr&gt;</th><th scope=col>&lt;dbl&gt;</th><th scope=col>&lt;int&gt;</th></tr>\n",
       "</thead>\n",
       "<tbody>\n",
       "\t<tr><td>Tobago             </td><td>3.625</td><td> 2</td></tr>\n",
       "\t<tr><td>China              </td><td>3.500</td><td> 1</td></tr>\n",
       "\t<tr><td>Sao Tome &amp; Principe</td><td>3.500</td><td> 2</td></tr>\n",
       "\t<tr><td>Solomon Islands    </td><td>3.450</td><td>10</td></tr>\n",
       "\t<tr><td>Congo              </td><td>3.318</td><td>11</td></tr>\n",
       "\t<tr><td>Thailand           </td><td>3.300</td><td> 5</td></tr>\n",
       "</tbody>\n",
       "</table>\n"
      ],
      "text/latex": [
       "A tibble: 6 × 3\n",
       "\\begin{tabular}{lll}\n",
       " bean\\_origin & average\\_rating & n\\\\\n",
       " <chr> & <dbl> & <int>\\\\\n",
       "\\hline\n",
       "\t Tobago              & 3.625 &  2\\\\\n",
       "\t China               & 3.500 &  1\\\\\n",
       "\t Sao Tome \\& Principe & 3.500 &  2\\\\\n",
       "\t Solomon Islands     & 3.450 & 10\\\\\n",
       "\t Congo               & 3.318 & 11\\\\\n",
       "\t Thailand            & 3.300 &  5\\\\\n",
       "\\end{tabular}\n"
      ],
      "text/markdown": [
       "\n",
       "A tibble: 6 × 3\n",
       "\n",
       "| bean_origin &lt;chr&gt; | average_rating &lt;dbl&gt; | n &lt;int&gt; |\n",
       "|---|---|---|\n",
       "| Tobago              | 3.625 |  2 |\n",
       "| China               | 3.500 |  1 |\n",
       "| Sao Tome &amp; Principe | 3.500 |  2 |\n",
       "| Solomon Islands     | 3.450 | 10 |\n",
       "| Congo               | 3.318 | 11 |\n",
       "| Thailand            | 3.300 |  5 |\n",
       "\n"
      ],
      "text/plain": [
       "  bean_origin         average_rating n \n",
       "1 Tobago              3.625           2\n",
       "2 China               3.500           1\n",
       "3 Sao Tome & Principe 3.500           2\n",
       "4 Solomon Islands     3.450          10\n",
       "5 Congo               3.318          11\n",
       "6 Thailand            3.300           5"
      ]
     },
     "metadata": {},
     "output_type": "display_data"
    }
   ],
   "source": [
    "df %>% group_by(bean_origin) %>% \n",
    "summarize(average_rating=mean(rating),n=n()) %>% arrange(desc(average_rating)) %>% head()\n"
   ]
  },
  {
   "cell_type": "markdown",
   "id": "7da90f6c",
   "metadata": {},
   "source": [
    "So, based on the various bean's countries of origins, the top rated chocolate bars are made from beans which are less frequent on the market"
   ]
  },
  {
   "cell_type": "code",
   "execution_count": 53,
   "id": "07d5d769",
   "metadata": {},
   "outputs": [
    {
     "data": {
      "text/html": [
       "<table class=\"dataframe\">\n",
       "<caption>A tibble: 6 × 3</caption>\n",
       "<thead>\n",
       "\t<tr><th scope=col>bean_origin</th><th scope=col>average_rating</th><th scope=col>n</th></tr>\n",
       "\t<tr><th scope=col>&lt;chr&gt;</th><th scope=col>&lt;dbl&gt;</th><th scope=col>&lt;int&gt;</th></tr>\n",
       "</thead>\n",
       "<tbody>\n",
       "\t<tr><td>Ivory Coast          </td><td>2.857</td><td>7</td></tr>\n",
       "\t<tr><td>Martinique           </td><td>2.750</td><td>1</td></tr>\n",
       "\t<tr><td>Principe             </td><td>2.750</td><td>1</td></tr>\n",
       "\t<tr><td>Sierra Leone         </td><td>2.750</td><td>4</td></tr>\n",
       "\t<tr><td>St.Vincent-Grenadines</td><td>2.750</td><td>1</td></tr>\n",
       "\t<tr><td>Puerto Rico          </td><td>2.714</td><td>7</td></tr>\n",
       "</tbody>\n",
       "</table>\n"
      ],
      "text/latex": [
       "A tibble: 6 × 3\n",
       "\\begin{tabular}{lll}\n",
       " bean\\_origin & average\\_rating & n\\\\\n",
       " <chr> & <dbl> & <int>\\\\\n",
       "\\hline\n",
       "\t Ivory Coast           & 2.857 & 7\\\\\n",
       "\t Martinique            & 2.750 & 1\\\\\n",
       "\t Principe              & 2.750 & 1\\\\\n",
       "\t Sierra Leone          & 2.750 & 4\\\\\n",
       "\t St.Vincent-Grenadines & 2.750 & 1\\\\\n",
       "\t Puerto Rico           & 2.714 & 7\\\\\n",
       "\\end{tabular}\n"
      ],
      "text/markdown": [
       "\n",
       "A tibble: 6 × 3\n",
       "\n",
       "| bean_origin &lt;chr&gt; | average_rating &lt;dbl&gt; | n &lt;int&gt; |\n",
       "|---|---|---|\n",
       "| Ivory Coast           | 2.857 | 7 |\n",
       "| Martinique            | 2.750 | 1 |\n",
       "| Principe              | 2.750 | 1 |\n",
       "| Sierra Leone          | 2.750 | 4 |\n",
       "| St.Vincent-Grenadines | 2.750 | 1 |\n",
       "| Puerto Rico           | 2.714 | 7 |\n",
       "\n"
      ],
      "text/plain": [
       "  bean_origin           average_rating n\n",
       "1 Ivory Coast           2.857          7\n",
       "2 Martinique            2.750          1\n",
       "3 Principe              2.750          1\n",
       "4 Sierra Leone          2.750          4\n",
       "5 St.Vincent-Grenadines 2.750          1\n",
       "6 Puerto Rico           2.714          7"
      ]
     },
     "metadata": {},
     "output_type": "display_data"
    }
   ],
   "source": [
    "df %>% group_by(bean_origin) %>% \n",
    "summarize(average_rating=mean(rating),n=n()) %>% arrange(desc(average_rating)) %>% tail()"
   ]
  },
  {
   "cell_type": "markdown",
   "id": "34aabbf9",
   "metadata": {},
   "source": [
    "The same goes for the worst rated chocolate bars, thus there must be another factor that comes into play when we consider ratings. Lets see how the most common countries of origin fare overall. "
   ]
  },
  {
   "cell_type": "code",
   "execution_count": 57,
   "id": "556528db",
   "metadata": {},
   "outputs": [
    {
     "data": {
      "text/html": [
       "<table class=\"dataframe\">\n",
       "<caption>A tibble: 6 × 3</caption>\n",
       "<thead>\n",
       "\t<tr><th scope=col>bean_origin</th><th scope=col>average_rating</th><th scope=col>n</th></tr>\n",
       "\t<tr><th scope=col>&lt;chr&gt;</th><th scope=col>&lt;dbl&gt;</th><th scope=col>&lt;int&gt;</th></tr>\n",
       "</thead>\n",
       "<tbody>\n",
       "\t<tr><td>Venezuela         </td><td>3.231</td><td>253</td></tr>\n",
       "\t<tr><td>Peru              </td><td>3.198</td><td>244</td></tr>\n",
       "\t<tr><td>Dominican Republic</td><td>3.216</td><td>226</td></tr>\n",
       "\t<tr><td>Ecuador           </td><td>3.164</td><td>219</td></tr>\n",
       "\t<tr><td>Madagascar        </td><td>3.267</td><td>177</td></tr>\n",
       "\t<tr><td>Blend             </td><td>3.038</td><td>156</td></tr>\n",
       "</tbody>\n",
       "</table>\n"
      ],
      "text/latex": [
       "A tibble: 6 × 3\n",
       "\\begin{tabular}{lll}\n",
       " bean\\_origin & average\\_rating & n\\\\\n",
       " <chr> & <dbl> & <int>\\\\\n",
       "\\hline\n",
       "\t Venezuela          & 3.231 & 253\\\\\n",
       "\t Peru               & 3.198 & 244\\\\\n",
       "\t Dominican Republic & 3.216 & 226\\\\\n",
       "\t Ecuador            & 3.164 & 219\\\\\n",
       "\t Madagascar         & 3.267 & 177\\\\\n",
       "\t Blend              & 3.038 & 156\\\\\n",
       "\\end{tabular}\n"
      ],
      "text/markdown": [
       "\n",
       "A tibble: 6 × 3\n",
       "\n",
       "| bean_origin &lt;chr&gt; | average_rating &lt;dbl&gt; | n &lt;int&gt; |\n",
       "|---|---|---|\n",
       "| Venezuela          | 3.231 | 253 |\n",
       "| Peru               | 3.198 | 244 |\n",
       "| Dominican Republic | 3.216 | 226 |\n",
       "| Ecuador            | 3.164 | 219 |\n",
       "| Madagascar         | 3.267 | 177 |\n",
       "| Blend              | 3.038 | 156 |\n",
       "\n"
      ],
      "text/plain": [
       "  bean_origin        average_rating n  \n",
       "1 Venezuela          3.231          253\n",
       "2 Peru               3.198          244\n",
       "3 Dominican Republic 3.216          226\n",
       "4 Ecuador            3.164          219\n",
       "5 Madagascar         3.267          177\n",
       "6 Blend              3.038          156"
      ]
     },
     "metadata": {},
     "output_type": "display_data"
    }
   ],
   "source": [
    "df %>% group_by(bean_origin) %>% \n",
    "  summarize(average_rating=mean(rating),n=n()) %>% \n",
    "arrange(desc(n),desc(average_rating))  %>% head()"
   ]
  },
  {
   "cell_type": "markdown",
   "id": "4e153fd9",
   "metadata": {},
   "source": [
    "In order to get a better understanding of ratings, we will make a function that returns the mode."
   ]
  },
  {
   "cell_type": "code",
   "execution_count": 60,
   "id": "a0ed0feb",
   "metadata": {},
   "outputs": [],
   "source": [
    "Modes <- function(x) {\n",
    "  ux <- unique(x)\n",
    "  tab <- tabulate(match(x, ux))\n",
    "  ux[tab == max(tab)]\n",
    "}"
   ]
  },
  {
   "cell_type": "code",
   "execution_count": 61,
   "id": "0feed466",
   "metadata": {},
   "outputs": [
    {
     "data": {
      "text/html": [
       "<style>\n",
       ".list-inline {list-style: none; margin:0; padding: 0}\n",
       ".list-inline>li {display: inline-block}\n",
       ".list-inline>li:not(:last-child)::after {content: \"\\00b7\"; padding: 0 .5ex}\n",
       "</style>\n",
       "<ol class=list-inline><li>3.19634387351779</li><li>0.44532130421723</li><li>3.5</li></ol>\n"
      ],
      "text/latex": [
       "\\begin{enumerate*}\n",
       "\\item 3.19634387351779\n",
       "\\item 0.44532130421723\n",
       "\\item 3.5\n",
       "\\end{enumerate*}\n"
      ],
      "text/markdown": [
       "1. 3.19634387351779\n",
       "2. 0.44532130421723\n",
       "3. 3.5\n",
       "\n",
       "\n"
      ],
      "text/plain": [
       "[1] 3.1963 0.4453 3.5000"
      ]
     },
     "metadata": {},
     "output_type": "display_data"
    }
   ],
   "source": [
    "c(mean(df$rating),sd(df$rating),Modes(df$rating))"
   ]
  },
  {
   "cell_type": "markdown",
   "id": "d8122cee",
   "metadata": {},
   "source": [
    "# Which are the various factors that affect ratings"
   ]
  },
  {
   "cell_type": "code",
   "execution_count": 98,
   "id": "360cd4f1",
   "metadata": {},
   "outputs": [
    {
     "data": {
      "image/png": "[encoded data removed]",
      "text/plain": [
       "plot without title"
      ]
     },
     "metadata": {
      "image/png": {
       "height": 420,
       "width": 420
      }
     },
     "output_type": "display_data"
    }
   ],
   "source": [
    "ggplot(data=df,aes(x=rating,y=cocoa_percent))+\n",
    "           geom_boxplot(aes(group=rating))+\n",
    "    stat_summary(fun.y=\"mean\",color=\"red\", shape=20,fill=\"red\")+ylab(\"Percent of Cocoa\")+xlab(\"Rating\")"
   ]
  },
  {
   "cell_type": "markdown",
   "id": "2fd2e505",
   "metadata": {},
   "source": [
    "We will bin ratings in order to simplify the above boxplot"
   ]
  },
  {
   "cell_type": "code",
   "execution_count": 99,
   "id": "5e87608d",
   "metadata": {},
   "outputs": [
    {
     "data": {
      "image/png": "[encoded data removed]",
      "text/plain": [
       "plot without title"
      ]
     },
     "metadata": {
      "image/png": {
       "height": 420,
       "width": 420
      }
     },
     "output_type": "display_data"
    }
   ],
   "source": [
    "ggplot(data=df,aes(x=cut_interval(rating,5),y=cocoa_percent))+\n",
    "    geom_boxplot(aes(group=cut_interval(rating,5)))+\n",
    "    stat_summary(fun.y=\"mean\",color=\"red\", shape=20,fill=\"red\")+ylab(\"Percent of Cocoa\")+xlab(\"Rating\")"
   ]
  },
  {
   "cell_type": "markdown",
   "id": "3342c467",
   "metadata": {},
   "source": [
    "Most high rated chocolate bars, as shown by the above boxplots and the respective average cocoa percentage, have a on average a cocoa percentage arround 70% . Lets create a dataframe based on the above beans"
   ]
  },
  {
   "cell_type": "code",
   "execution_count": 68,
   "id": "8677068f",
   "metadata": {},
   "outputs": [],
   "source": [
    "dfbins=df %>% mutate(bin=cut_interval(rating,5))"
   ]
  },
  {
   "cell_type": "code",
   "execution_count": 71,
   "id": "8df090f8",
   "metadata": {},
   "outputs": [
    {
     "data": {
      "text/html": [
       "<table class=\"dataframe\">\n",
       "<caption>A tibble: 5 × 4</caption>\n",
       "<thead>\n",
       "\t<tr><th scope=col>bin</th><th scope=col>cocoa_percent</th><th scope=col>num_ingredients</th><th scope=col>rating</th></tr>\n",
       "\t<tr><th scope=col>&lt;fct&gt;</th><th scope=col>&lt;dbl&gt;</th><th scope=col>&lt;dbl&gt;</th><th scope=col>&lt;dbl&gt;</th></tr>\n",
       "</thead>\n",
       "<tbody>\n",
       "\t<tr><td>[1,1.6]  </td><td>75.17</td><td>4.000</td><td>1.417</td></tr>\n",
       "\t<tr><td>(1.6,2.2]</td><td>73.63</td><td>4.100</td><td>1.992</td></tr>\n",
       "\t<tr><td>(2.2,2.8]</td><td>71.86</td><td>3.092</td><td>2.656</td></tr>\n",
       "\t<tr><td>(2.8,3.4]</td><td>71.59</td><td>3.033</td><td>3.118</td></tr>\n",
       "\t<tr><td>(3.4,4]  </td><td>71.13</td><td>2.984</td><td>3.635</td></tr>\n",
       "</tbody>\n",
       "</table>\n"
      ],
      "text/latex": [
       "A tibble: 5 × 4\n",
       "\\begin{tabular}{llll}\n",
       " bin & cocoa\\_percent & num\\_ingredients & rating\\\\\n",
       " <fct> & <dbl> & <dbl> & <dbl>\\\\\n",
       "\\hline\n",
       "\t {[}1,1.6{]}   & 75.17 & 4.000 & 1.417\\\\\n",
       "\t (1.6,2.2{]} & 73.63 & 4.100 & 1.992\\\\\n",
       "\t (2.2,2.8{]} & 71.86 & 3.092 & 2.656\\\\\n",
       "\t (2.8,3.4{]} & 71.59 & 3.033 & 3.118\\\\\n",
       "\t (3.4,4{]}   & 71.13 & 2.984 & 3.635\\\\\n",
       "\\end{tabular}\n"
      ],
      "text/markdown": [
       "\n",
       "A tibble: 5 × 4\n",
       "\n",
       "| bin &lt;fct&gt; | cocoa_percent &lt;dbl&gt; | num_ingredients &lt;dbl&gt; | rating &lt;dbl&gt; |\n",
       "|---|---|---|---|\n",
       "| [1,1.6]   | 75.17 | 4.000 | 1.417 |\n",
       "| (1.6,2.2] | 73.63 | 4.100 | 1.992 |\n",
       "| (2.2,2.8] | 71.86 | 3.092 | 2.656 |\n",
       "| (2.8,3.4] | 71.59 | 3.033 | 3.118 |\n",
       "| (3.4,4]   | 71.13 | 2.984 | 3.635 |\n",
       "\n"
      ],
      "text/plain": [
       "  bin       cocoa_percent num_ingredients rating\n",
       "1 [1,1.6]   75.17         4.000           1.417 \n",
       "2 (1.6,2.2] 73.63         4.100           1.992 \n",
       "3 (2.2,2.8] 71.86         3.092           2.656 \n",
       "4 (2.8,3.4] 71.59         3.033           3.118 \n",
       "5 (3.4,4]   71.13         2.984           3.635 "
      ]
     },
     "metadata": {},
     "output_type": "display_data"
    }
   ],
   "source": [
    "dfbins %>%na.omit %>%  group_by(bin) %>% \n",
    "select(bin,cocoa_percent,num_ingredients,rating) %>% \n",
    "summarize_all(mean)  "
   ]
  },
  {
   "cell_type": "markdown",
   "id": "fdbae68a",
   "metadata": {},
   "source": [
    "At a first glane the percentage of cocoa contained in the chocolate bars, as well as the number of ingredients, tend to be lower in the highest rated dark chocolate bars"
   ]
  },
  {
   "cell_type": "markdown",
   "id": "56628354",
   "metadata": {},
   "source": [
    "# Logistic Regression \n",
    "We will make a new variable named \"top rated\", it will take the value 1 for all chocolate bars that have a rating higher than 2.8\n"
   ]
  },
  {
   "cell_type": "code",
   "execution_count": 72,
   "id": "6dcf4720",
   "metadata": {},
   "outputs": [],
   "source": [
    "dfbins$toprated=ifelse(df$rating>2.8,1,0)"
   ]
  },
  {
   "cell_type": "markdown",
   "id": "8a94ee06",
   "metadata": {},
   "source": [
    "furthermore, we will create a new categorical variable \"common_bean\" which will equal to 1 if the bean's country of origin is amongst the most frequent."
   ]
  },
  {
   "cell_type": "code",
   "execution_count": 73,
   "id": "00558ca1",
   "metadata": {},
   "outputs": [],
   "source": [
    "frequent=df %>% count(bean_origin) %>% arrange(desc(n))  %>% \n",
    "head(5) %>% select(bean_origin) %>% \n",
    "t %>% as.vector"
   ]
  },
  {
   "cell_type": "code",
   "execution_count": 80,
   "id": "16c25d67",
   "metadata": {},
   "outputs": [],
   "source": [
    "dfbins$freq=ifelse(dfbins$bean_origin %in% frequent,1,0)"
   ]
  },
  {
   "cell_type": "markdown",
   "id": "388a5373",
   "metadata": {},
   "source": [
    "We will also create one more categorical variable which will denote if the bar has a sweetener other than sugar or beet sugar."
   ]
  },
  {
   "cell_type": "code",
   "execution_count": 81,
   "id": "7e4779cf",
   "metadata": {},
   "outputs": [],
   "source": [
    "dfbins$sweetener=ifelse(stringr::str_detect(dfbins$ingredients,fixed(\"S*\")),1,0)"
   ]
  },
  {
   "cell_type": "code",
   "execution_count": null,
   "id": "deeea36f",
   "metadata": {},
   "outputs": [],
   "source": []
  },
  {
   "cell_type": "code",
   "execution_count": 84,
   "id": "f6894575",
   "metadata": {},
   "outputs": [],
   "source": [
    "model=glm(toprated~cocoa_percent+as.factor(freq)+as.factor(sweetener),\n",
    "          data=dfbins,family=\"binomial\")"
   ]
  },
  {
   "cell_type": "code",
   "execution_count": 85,
   "id": "eaee1796",
   "metadata": {},
   "outputs": [
    {
     "data": {
      "text/plain": [
       "\n",
       "Call:\n",
       "glm(formula = toprated ~ cocoa_percent + as.factor(freq) + as.factor(sweetener), \n",
       "    family = \"binomial\", data = dfbins)\n",
       "\n",
       "Deviance Residuals: \n",
       "   Min      1Q  Median      3Q     Max  \n",
       "-2.238   0.599   0.684   0.708   1.228  \n",
       "\n",
       "Coefficients:\n",
       "                      Estimate Std. Error z value Pr(>|z|)    \n",
       "(Intercept)            4.04755    0.59330    6.82  9.0e-12 ***\n",
       "cocoa_percent         -0.03876    0.00818   -4.74  2.1e-06 ***\n",
       "as.factor(freq)1       0.02191    0.09675    0.23    0.821    \n",
       "as.factor(sweetener)1 -0.67602    0.24595   -2.75    0.006 ** \n",
       "---\n",
       "Signif. codes:  0 '***' 0.001 '**' 0.01 '*' 0.05 '.' 0.1 ' ' 1\n",
       "\n",
       "(Dispersion parameter for binomial family taken to be 1)\n",
       "\n",
       "    Null deviance: 2689.7  on 2529  degrees of freedom\n",
       "Residual deviance: 2660.6  on 2526  degrees of freedom\n",
       "AIC: 2669\n",
       "\n",
       "Number of Fisher Scoring iterations: 4\n"
      ]
     },
     "metadata": {},
     "output_type": "display_data"
    }
   ],
   "source": [
    "summary(model)"
   ]
  },
  {
   "cell_type": "markdown",
   "id": "fb573081",
   "metadata": {},
   "source": [
    "Bases on the above results, whereas the country of origin is a common one or not, doesnt seem to have any effect.\n",
    "The highest rated dark chocolate bars tend to not have a high cocoa percentage and dont use a sweetener other than sugar or beet sugar. The last finding can be explained by the effect of sugar on the human brain, which is not easily (if at all) replicated by artificial sweeteners."
   ]
  },
  {
   "cell_type": "code",
   "execution_count": 92,
   "id": "fb8c060e",
   "metadata": {},
   "outputs": [
    {
     "data": {
      "text/html": [
       "<table class=\"dataframe\">\n",
       "<caption>A data.frame: 20 × 2</caption>\n",
       "<thead>\n",
       "\t<tr><th></th><th scope=col>ingredients</th><th scope=col>cocoa_percent</th></tr>\n",
       "\t<tr><th></th><th scope=col>&lt;chr&gt;</th><th scope=col>&lt;dbl&gt;</th></tr>\n",
       "</thead>\n",
       "<tbody>\n",
       "\t<tr><th scope=row>1</th><td>B,S,C,L</td><td>70</td></tr>\n",
       "\t<tr><th scope=row>2</th><td>B,S,C  </td><td>63</td></tr>\n",
       "\t<tr><th scope=row>3</th><td>B,S,C,L</td><td>70</td></tr>\n",
       "\t<tr><th scope=row>4</th><td>B,S,C,L</td><td>70</td></tr>\n",
       "\t<tr><th scope=row>5</th><td>B,S,C,V</td><td>70</td></tr>\n",
       "\t<tr><th scope=row>6</th><td>B,S,C,V</td><td>70</td></tr>\n",
       "\t<tr><th scope=row>7</th><td>B,S,C,L</td><td>60</td></tr>\n",
       "\t<tr><th scope=row>8</th><td>B,S    </td><td>70</td></tr>\n",
       "\t<tr><th scope=row>9</th><td>B,S    </td><td>70</td></tr>\n",
       "\t<tr><th scope=row>10</th><td>B,S    </td><td>70</td></tr>\n",
       "\t<tr><th scope=row>11</th><td>B,S    </td><td>70</td></tr>\n",
       "\t<tr><th scope=row>12</th><td>B,S    </td><td>70</td></tr>\n",
       "\t<tr><th scope=row>13</th><td>B,S    </td><td>70</td></tr>\n",
       "\t<tr><th scope=row>14</th><td>B,S,C  </td><td>72</td></tr>\n",
       "\t<tr><th scope=row>15</th><td>B,S    </td><td>70</td></tr>\n",
       "\t<tr><th scope=row>16</th><td>B,S,C  </td><td>72</td></tr>\n",
       "\t<tr><th scope=row>17</th><td>B,S,C  </td><td>73</td></tr>\n",
       "\t<tr><th scope=row>18</th><td>B,S,C  </td><td>72</td></tr>\n",
       "\t<tr><th scope=row>19</th><td>B,S,C  </td><td>75</td></tr>\n",
       "\t<tr><th scope=row>20</th><td>B,S,C  </td><td>75</td></tr>\n",
       "</tbody>\n",
       "</table>\n"
      ],
      "text/latex": [
       "A data.frame: 20 × 2\n",
       "\\begin{tabular}{r|ll}\n",
       "  & ingredients & cocoa\\_percent\\\\\n",
       "  & <chr> & <dbl>\\\\\n",
       "\\hline\n",
       "\t1 & B,S,C,L & 70\\\\\n",
       "\t2 & B,S,C   & 63\\\\\n",
       "\t3 & B,S,C,L & 70\\\\\n",
       "\t4 & B,S,C,L & 70\\\\\n",
       "\t5 & B,S,C,V & 70\\\\\n",
       "\t6 & B,S,C,V & 70\\\\\n",
       "\t7 & B,S,C,L & 60\\\\\n",
       "\t8 & B,S     & 70\\\\\n",
       "\t9 & B,S     & 70\\\\\n",
       "\t10 & B,S     & 70\\\\\n",
       "\t11 & B,S     & 70\\\\\n",
       "\t12 & B,S     & 70\\\\\n",
       "\t13 & B,S     & 70\\\\\n",
       "\t14 & B,S,C   & 72\\\\\n",
       "\t15 & B,S     & 70\\\\\n",
       "\t16 & B,S,C   & 72\\\\\n",
       "\t17 & B,S,C   & 73\\\\\n",
       "\t18 & B,S,C   & 72\\\\\n",
       "\t19 & B,S,C   & 75\\\\\n",
       "\t20 & B,S,C   & 75\\\\\n",
       "\\end{tabular}\n"
      ],
      "text/markdown": [
       "\n",
       "A data.frame: 20 × 2\n",
       "\n",
       "| <!--/--> | ingredients &lt;chr&gt; | cocoa_percent &lt;dbl&gt; |\n",
       "|---|---|---|\n",
       "| 1 | B,S,C,L | 70 |\n",
       "| 2 | B,S,C   | 63 |\n",
       "| 3 | B,S,C,L | 70 |\n",
       "| 4 | B,S,C,L | 70 |\n",
       "| 5 | B,S,C,V | 70 |\n",
       "| 6 | B,S,C,V | 70 |\n",
       "| 7 | B,S,C,L | 60 |\n",
       "| 8 | B,S     | 70 |\n",
       "| 9 | B,S     | 70 |\n",
       "| 10 | B,S     | 70 |\n",
       "| 11 | B,S     | 70 |\n",
       "| 12 | B,S     | 70 |\n",
       "| 13 | B,S     | 70 |\n",
       "| 14 | B,S,C   | 72 |\n",
       "| 15 | B,S     | 70 |\n",
       "| 16 | B,S,C   | 72 |\n",
       "| 17 | B,S,C   | 73 |\n",
       "| 18 | B,S,C   | 72 |\n",
       "| 19 | B,S,C   | 75 |\n",
       "| 20 | B,S,C   | 75 |\n",
       "\n"
      ],
      "text/plain": [
       "   ingredients cocoa_percent\n",
       "1  B,S,C,L     70           \n",
       "2  B,S,C       63           \n",
       "3  B,S,C,L     70           \n",
       "4  B,S,C,L     70           \n",
       "5  B,S,C,V     70           \n",
       "6  B,S,C,V     70           \n",
       "7  B,S,C,L     60           \n",
       "8  B,S         70           \n",
       "9  B,S         70           \n",
       "10 B,S         70           \n",
       "11 B,S         70           \n",
       "12 B,S         70           \n",
       "13 B,S         70           \n",
       "14 B,S,C       72           \n",
       "15 B,S         70           \n",
       "16 B,S,C       72           \n",
       "17 B,S,C       73           \n",
       "18 B,S,C       72           \n",
       "19 B,S,C       75           \n",
       "20 B,S,C       75           "
      ]
     },
     "metadata": {},
     "output_type": "display_data"
    }
   ],
   "source": [
    "#top 20 ratings\n",
    "df %>% arrange(desc(rating)) %>% select(ingredients,cocoa_percent) %>% head(20)"
   ]
  },
  {
   "cell_type": "code",
   "execution_count": 93,
   "id": "a2c2e0d8",
   "metadata": {},
   "outputs": [
    {
     "data": {
      "text/html": [
       "<table class=\"dataframe\">\n",
       "<caption>A data.frame: 20 × 2</caption>\n",
       "<thead>\n",
       "\t<tr><th></th><th scope=col>ingredients</th><th scope=col>cocoa_percent</th></tr>\n",
       "\t<tr><th></th><th scope=col>&lt;chr&gt;</th><th scope=col>&lt;dbl&gt;</th></tr>\n",
       "</thead>\n",
       "<tbody>\n",
       "\t<tr><th scope=row>1</th><td>B,S,C,V,L</td><td>73</td></tr>\n",
       "\t<tr><th scope=row>2</th><td>B,S,C,L  </td><td>91</td></tr>\n",
       "\t<tr><th scope=row>3</th><td>B,S,L    </td><td>70</td></tr>\n",
       "\t<tr><th scope=row>4</th><td>B,S*,C,Sa</td><td>65</td></tr>\n",
       "\t<tr><th scope=row>5</th><td>B,S,C    </td><td>67</td></tr>\n",
       "\t<tr><th scope=row>6</th><td>B,S,C,V,L</td><td>85</td></tr>\n",
       "\t<tr><th scope=row>7</th><td>B,S,C    </td><td>72</td></tr>\n",
       "\t<tr><th scope=row>8</th><td>B,S,C,V,L</td><td>72</td></tr>\n",
       "\t<tr><th scope=row>9</th><td>B,S,C,V,L</td><td>75</td></tr>\n",
       "\t<tr><th scope=row>10</th><td>B,S,C,L  </td><td>77</td></tr>\n",
       "\t<tr><th scope=row>11</th><td>B,S      </td><td>75</td></tr>\n",
       "\t<tr><th scope=row>12</th><td>B,S,C,V  </td><td>65</td></tr>\n",
       "\t<tr><th scope=row>13</th><td>B,S,C,V,L</td><td>62</td></tr>\n",
       "\t<tr><th scope=row>14</th><td>B,S*     </td><td>81</td></tr>\n",
       "\t<tr><th scope=row>15</th><td>B,S,C,L  </td><td>80</td></tr>\n",
       "\t<tr><th scope=row>16</th><td>B,S,C,V,L</td><td>71</td></tr>\n",
       "\t<tr><th scope=row>17</th><td>B,S,C,V,L</td><td>72</td></tr>\n",
       "\t<tr><th scope=row>18</th><td>B,S      </td><td>75</td></tr>\n",
       "\t<tr><th scope=row>19</th><td>B,S,C,V  </td><td>75</td></tr>\n",
       "\t<tr><th scope=row>20</th><td>B,S,C,L  </td><td>70</td></tr>\n",
       "</tbody>\n",
       "</table>\n"
      ],
      "text/latex": [
       "A data.frame: 20 × 2\n",
       "\\begin{tabular}{r|ll}\n",
       "  & ingredients & cocoa\\_percent\\\\\n",
       "  & <chr> & <dbl>\\\\\n",
       "\\hline\n",
       "\t1 & B,S,C,V,L & 73\\\\\n",
       "\t2 & B,S,C,L   & 91\\\\\n",
       "\t3 & B,S,L     & 70\\\\\n",
       "\t4 & B,S*,C,Sa & 65\\\\\n",
       "\t5 & B,S,C     & 67\\\\\n",
       "\t6 & B,S,C,V,L & 85\\\\\n",
       "\t7 & B,S,C     & 72\\\\\n",
       "\t8 & B,S,C,V,L & 72\\\\\n",
       "\t9 & B,S,C,V,L & 75\\\\\n",
       "\t10 & B,S,C,L   & 77\\\\\n",
       "\t11 & B,S       & 75\\\\\n",
       "\t12 & B,S,C,V   & 65\\\\\n",
       "\t13 & B,S,C,V,L & 62\\\\\n",
       "\t14 & B,S*      & 81\\\\\n",
       "\t15 & B,S,C,L   & 80\\\\\n",
       "\t16 & B,S,C,V,L & 71\\\\\n",
       "\t17 & B,S,C,V,L & 72\\\\\n",
       "\t18 & B,S       & 75\\\\\n",
       "\t19 & B,S,C,V   & 75\\\\\n",
       "\t20 & B,S,C,L   & 70\\\\\n",
       "\\end{tabular}\n"
      ],
      "text/markdown": [
       "\n",
       "A data.frame: 20 × 2\n",
       "\n",
       "| <!--/--> | ingredients &lt;chr&gt; | cocoa_percent &lt;dbl&gt; |\n",
       "|---|---|---|\n",
       "| 1 | B,S,C,V,L | 73 |\n",
       "| 2 | B,S,C,L   | 91 |\n",
       "| 3 | B,S,L     | 70 |\n",
       "| 4 | B,S*,C,Sa | 65 |\n",
       "| 5 | B,S,C     | 67 |\n",
       "| 6 | B,S,C,V,L | 85 |\n",
       "| 7 | B,S,C     | 72 |\n",
       "| 8 | B,S,C,V,L | 72 |\n",
       "| 9 | B,S,C,V,L | 75 |\n",
       "| 10 | B,S,C,L   | 77 |\n",
       "| 11 | B,S       | 75 |\n",
       "| 12 | B,S,C,V   | 65 |\n",
       "| 13 | B,S,C,V,L | 62 |\n",
       "| 14 | B,S*      | 81 |\n",
       "| 15 | B,S,C,L   | 80 |\n",
       "| 16 | B,S,C,V,L | 71 |\n",
       "| 17 | B,S,C,V,L | 72 |\n",
       "| 18 | B,S       | 75 |\n",
       "| 19 | B,S,C,V   | 75 |\n",
       "| 20 | B,S,C,L   | 70 |\n",
       "\n"
      ],
      "text/plain": [
       "   ingredients cocoa_percent\n",
       "1  B,S,C,V,L   73           \n",
       "2  B,S,C,L     91           \n",
       "3  B,S,L       70           \n",
       "4  B,S*,C,Sa   65           \n",
       "5  B,S,C       67           \n",
       "6  B,S,C,V,L   85           \n",
       "7  B,S,C       72           \n",
       "8  B,S,C,V,L   72           \n",
       "9  B,S,C,V,L   75           \n",
       "10 B,S,C,L     77           \n",
       "11 B,S         75           \n",
       "12 B,S,C,V     65           \n",
       "13 B,S,C,V,L   62           \n",
       "14 B,S*        81           \n",
       "15 B,S,C,L     80           \n",
       "16 B,S,C,V,L   71           \n",
       "17 B,S,C,V,L   72           \n",
       "18 B,S         75           \n",
       "19 B,S,C,V     75           \n",
       "20 B,S,C,L     70           "
      ]
     },
     "metadata": {},
     "output_type": "display_data"
    }
   ],
   "source": []
  },
  {
   "cell_type": "code",
   "execution_count": 95,
   "id": "03c756cf",
   "metadata": {},
   "outputs": [
    {
     "data": {
      "text/html": [
       "<table class=\"dataframe\">\n",
       "<caption>A data.frame: 20 × 2</caption>\n",
       "<thead>\n",
       "\t<tr><th></th><th scope=col>ingredients</th><th scope=col>cocoa_percent</th></tr>\n",
       "\t<tr><th></th><th scope=col>&lt;chr&gt;</th><th scope=col>&lt;dbl&gt;</th></tr>\n",
       "</thead>\n",
       "<tbody>\n",
       "\t<tr><th scope=row>1</th><td>         </td><td> 70</td></tr>\n",
       "\t<tr><th scope=row>2</th><td>         </td><td>100</td></tr>\n",
       "\t<tr><th scope=row>3</th><td>         </td><td> 70</td></tr>\n",
       "\t<tr><th scope=row>4</th><td>B,S,C,V,L</td><td> 73</td></tr>\n",
       "\t<tr><th scope=row>5</th><td>         </td><td>100</td></tr>\n",
       "\t<tr><th scope=row>6</th><td>         </td><td>100</td></tr>\n",
       "\t<tr><th scope=row>7</th><td>B,S,C,L  </td><td> 91</td></tr>\n",
       "\t<tr><th scope=row>8</th><td>         </td><td>100</td></tr>\n",
       "\t<tr><th scope=row>9</th><td>B,S,L    </td><td> 70</td></tr>\n",
       "\t<tr><th scope=row>10</th><td>         </td><td> 70</td></tr>\n",
       "\t<tr><th scope=row>11</th><td>B,S*,C,Sa</td><td> 65</td></tr>\n",
       "\t<tr><th scope=row>12</th><td>         </td><td>100</td></tr>\n",
       "\t<tr><th scope=row>13</th><td>B,S,C    </td><td> 67</td></tr>\n",
       "\t<tr><th scope=row>14</th><td>B,S,C,V,L</td><td> 85</td></tr>\n",
       "\t<tr><th scope=row>15</th><td>B,S,C    </td><td> 72</td></tr>\n",
       "\t<tr><th scope=row>16</th><td>         </td><td>100</td></tr>\n",
       "\t<tr><th scope=row>17</th><td>         </td><td>100</td></tr>\n",
       "\t<tr><th scope=row>18</th><td>B,S,C,V,L</td><td> 72</td></tr>\n",
       "\t<tr><th scope=row>19</th><td>B,S,C,V,L</td><td> 75</td></tr>\n",
       "\t<tr><th scope=row>20</th><td>B,S,C,L  </td><td> 77</td></tr>\n",
       "</tbody>\n",
       "</table>\n"
      ],
      "text/latex": [
       "A data.frame: 20 × 2\n",
       "\\begin{tabular}{r|ll}\n",
       "  & ingredients & cocoa\\_percent\\\\\n",
       "  & <chr> & <dbl>\\\\\n",
       "\\hline\n",
       "\t1 &           &  70\\\\\n",
       "\t2 &           & 100\\\\\n",
       "\t3 &           &  70\\\\\n",
       "\t4 & B,S,C,V,L &  73\\\\\n",
       "\t5 &           & 100\\\\\n",
       "\t6 &           & 100\\\\\n",
       "\t7 & B,S,C,L   &  91\\\\\n",
       "\t8 &           & 100\\\\\n",
       "\t9 & B,S,L     &  70\\\\\n",
       "\t10 &           &  70\\\\\n",
       "\t11 & B,S*,C,Sa &  65\\\\\n",
       "\t12 &           & 100\\\\\n",
       "\t13 & B,S,C     &  67\\\\\n",
       "\t14 & B,S,C,V,L &  85\\\\\n",
       "\t15 & B,S,C     &  72\\\\\n",
       "\t16 &           & 100\\\\\n",
       "\t17 &           & 100\\\\\n",
       "\t18 & B,S,C,V,L &  72\\\\\n",
       "\t19 & B,S,C,V,L &  75\\\\\n",
       "\t20 & B,S,C,L   &  77\\\\\n",
       "\\end{tabular}\n"
      ],
      "text/markdown": [
       "\n",
       "A data.frame: 20 × 2\n",
       "\n",
       "| <!--/--> | ingredients &lt;chr&gt; | cocoa_percent &lt;dbl&gt; |\n",
       "|---|---|---|\n",
       "| 1 | <!----> |  70 |\n",
       "| 2 | <!----> | 100 |\n",
       "| 3 | <!----> |  70 |\n",
       "| 4 | B,S,C,V,L |  73 |\n",
       "| 5 | <!----> | 100 |\n",
       "| 6 | <!----> | 100 |\n",
       "| 7 | B,S,C,L   |  91 |\n",
       "| 8 | <!----> | 100 |\n",
       "| 9 | B,S,L     |  70 |\n",
       "| 10 | <!----> |  70 |\n",
       "| 11 | B,S*,C,Sa |  65 |\n",
       "| 12 | <!----> | 100 |\n",
       "| 13 | B,S,C     |  67 |\n",
       "| 14 | B,S,C,V,L |  85 |\n",
       "| 15 | B,S,C     |  72 |\n",
       "| 16 | <!----> | 100 |\n",
       "| 17 | <!----> | 100 |\n",
       "| 18 | B,S,C,V,L |  72 |\n",
       "| 19 | B,S,C,V,L |  75 |\n",
       "| 20 | B,S,C,L   |  77 |\n",
       "\n"
      ],
      "text/plain": [
       "   ingredients cocoa_percent\n",
       "1               70          \n",
       "2              100          \n",
       "3               70          \n",
       "4  B,S,C,V,L    73          \n",
       "5              100          \n",
       "6              100          \n",
       "7  B,S,C,L      91          \n",
       "8              100          \n",
       "9  B,S,L        70          \n",
       "10              70          \n",
       "11 B,S*,C,Sa    65          \n",
       "12             100          \n",
       "13 B,S,C        67          \n",
       "14 B,S,C,V,L    85          \n",
       "15 B,S,C        72          \n",
       "16             100          \n",
       "17             100          \n",
       "18 B,S,C,V,L    72          \n",
       "19 B,S,C,V,L    75          \n",
       "20 B,S,C,L      77          "
      ]
     },
     "metadata": {},
     "output_type": "display_data"
    }
   ],
   "source": [
    "#bottom 20 values\n",
    "df %>%  arrange(rating) %>% select(ingredients,cocoa_percent) %>% head(20)"
   ]
  },
  {
   "cell_type": "code",
   "execution_count": 96,
   "id": "f5d8a422",
   "metadata": {},
   "outputs": [
    {
     "data": {
      "text/html": [
       "<table class=\"dataframe\">\n",
       "<caption>A data.frame: 20 × 2</caption>\n",
       "<thead>\n",
       "\t<tr><th></th><th scope=col>ingredients</th><th scope=col>cocoa_percent</th></tr>\n",
       "\t<tr><th></th><th scope=col>&lt;chr&gt;</th><th scope=col>&lt;dbl&gt;</th></tr>\n",
       "</thead>\n",
       "<tbody>\n",
       "\t<tr><th scope=row>1</th><td>B,S,C,V,L</td><td>73</td></tr>\n",
       "\t<tr><th scope=row>2</th><td>B,S,C,L  </td><td>91</td></tr>\n",
       "\t<tr><th scope=row>3</th><td>B,S,L    </td><td>70</td></tr>\n",
       "\t<tr><th scope=row>4</th><td>B,S*,C,Sa</td><td>65</td></tr>\n",
       "\t<tr><th scope=row>5</th><td>B,S,C    </td><td>67</td></tr>\n",
       "\t<tr><th scope=row>6</th><td>B,S,C,V,L</td><td>85</td></tr>\n",
       "\t<tr><th scope=row>7</th><td>B,S,C    </td><td>72</td></tr>\n",
       "\t<tr><th scope=row>8</th><td>B,S,C,V,L</td><td>72</td></tr>\n",
       "\t<tr><th scope=row>9</th><td>B,S,C,V,L</td><td>75</td></tr>\n",
       "\t<tr><th scope=row>10</th><td>B,S,C,L  </td><td>77</td></tr>\n",
       "\t<tr><th scope=row>11</th><td>B,S      </td><td>75</td></tr>\n",
       "\t<tr><th scope=row>12</th><td>B,S,C,V  </td><td>65</td></tr>\n",
       "\t<tr><th scope=row>13</th><td>B,S,C,V,L</td><td>62</td></tr>\n",
       "\t<tr><th scope=row>14</th><td>B,S*     </td><td>81</td></tr>\n",
       "\t<tr><th scope=row>15</th><td>B,S,C,L  </td><td>80</td></tr>\n",
       "\t<tr><th scope=row>16</th><td>B,S,C,V,L</td><td>71</td></tr>\n",
       "\t<tr><th scope=row>17</th><td>B,S,C,V,L</td><td>72</td></tr>\n",
       "\t<tr><th scope=row>18</th><td>B,S      </td><td>75</td></tr>\n",
       "\t<tr><th scope=row>19</th><td>B,S,C,V  </td><td>75</td></tr>\n",
       "\t<tr><th scope=row>20</th><td>B,S,C,L  </td><td>70</td></tr>\n",
       "</tbody>\n",
       "</table>\n"
      ],
      "text/latex": [
       "A data.frame: 20 × 2\n",
       "\\begin{tabular}{r|ll}\n",
       "  & ingredients & cocoa\\_percent\\\\\n",
       "  & <chr> & <dbl>\\\\\n",
       "\\hline\n",
       "\t1 & B,S,C,V,L & 73\\\\\n",
       "\t2 & B,S,C,L   & 91\\\\\n",
       "\t3 & B,S,L     & 70\\\\\n",
       "\t4 & B,S*,C,Sa & 65\\\\\n",
       "\t5 & B,S,C     & 67\\\\\n",
       "\t6 & B,S,C,V,L & 85\\\\\n",
       "\t7 & B,S,C     & 72\\\\\n",
       "\t8 & B,S,C,V,L & 72\\\\\n",
       "\t9 & B,S,C,V,L & 75\\\\\n",
       "\t10 & B,S,C,L   & 77\\\\\n",
       "\t11 & B,S       & 75\\\\\n",
       "\t12 & B,S,C,V   & 65\\\\\n",
       "\t13 & B,S,C,V,L & 62\\\\\n",
       "\t14 & B,S*      & 81\\\\\n",
       "\t15 & B,S,C,L   & 80\\\\\n",
       "\t16 & B,S,C,V,L & 71\\\\\n",
       "\t17 & B,S,C,V,L & 72\\\\\n",
       "\t18 & B,S       & 75\\\\\n",
       "\t19 & B,S,C,V   & 75\\\\\n",
       "\t20 & B,S,C,L   & 70\\\\\n",
       "\\end{tabular}\n"
      ],
      "text/markdown": [
       "\n",
       "A data.frame: 20 × 2\n",
       "\n",
       "| <!--/--> | ingredients &lt;chr&gt; | cocoa_percent &lt;dbl&gt; |\n",
       "|---|---|---|\n",
       "| 1 | B,S,C,V,L | 73 |\n",
       "| 2 | B,S,C,L   | 91 |\n",
       "| 3 | B,S,L     | 70 |\n",
       "| 4 | B,S*,C,Sa | 65 |\n",
       "| 5 | B,S,C     | 67 |\n",
       "| 6 | B,S,C,V,L | 85 |\n",
       "| 7 | B,S,C     | 72 |\n",
       "| 8 | B,S,C,V,L | 72 |\n",
       "| 9 | B,S,C,V,L | 75 |\n",
       "| 10 | B,S,C,L   | 77 |\n",
       "| 11 | B,S       | 75 |\n",
       "| 12 | B,S,C,V   | 65 |\n",
       "| 13 | B,S,C,V,L | 62 |\n",
       "| 14 | B,S*      | 81 |\n",
       "| 15 | B,S,C,L   | 80 |\n",
       "| 16 | B,S,C,V,L | 71 |\n",
       "| 17 | B,S,C,V,L | 72 |\n",
       "| 18 | B,S       | 75 |\n",
       "| 19 | B,S,C,V   | 75 |\n",
       "| 20 | B,S,C,L   | 70 |\n",
       "\n"
      ],
      "text/plain": [
       "   ingredients cocoa_percent\n",
       "1  B,S,C,V,L   73           \n",
       "2  B,S,C,L     91           \n",
       "3  B,S,L       70           \n",
       "4  B,S*,C,Sa   65           \n",
       "5  B,S,C       67           \n",
       "6  B,S,C,V,L   85           \n",
       "7  B,S,C       72           \n",
       "8  B,S,C,V,L   72           \n",
       "9  B,S,C,V,L   75           \n",
       "10 B,S,C,L     77           \n",
       "11 B,S         75           \n",
       "12 B,S,C,V     65           \n",
       "13 B,S,C,V,L   62           \n",
       "14 B,S*        81           \n",
       "15 B,S,C,L     80           \n",
       "16 B,S,C,V,L   71           \n",
       "17 B,S,C,V,L   72           \n",
       "18 B,S         75           \n",
       "19 B,S,C,V     75           \n",
       "20 B,S,C,L     70           "
      ]
     },
     "metadata": {},
     "output_type": "display_data"
    }
   ],
   "source": [
    "#bottom 20 ratings , with ommited values\n",
    "df %>%na.omit %>%  arrange(rating) %>% select(ingredients,cocoa_percent) %>% head(20)\n"
   ]
  },
  {
   "cell_type": "code",
   "execution_count": null,
   "id": "a28796d4",
   "metadata": {},
   "outputs": [],
   "source": []
  }
 ],
 "metadata": {
  "kernelspec": {
   "display_name": "R",
   "language": "R",
   "name": "ir"
  },
  "language_info": {
   "codemirror_mode": "r",
   "file_extension": ".r",
   "mimetype": "text/x-r-source",
   "name": "R",
   "pygments_lexer": "r",
   "version": "4.1.0"
  },
  "varInspector": {
   "cols": {
    "lenName": 16,
    "lenType": 16,
    "lenVar": 40
   },
   "kernels_config": {
    "python": {
     "delete_cmd_postfix": "",
     "delete_cmd_prefix": "del ",
     "library": "var_list.py",
     "varRefreshCmd": "print(var_dic_list())"
    },
    "r": {
     "delete_cmd_postfix": ") ",
     "delete_cmd_prefix": "rm(",
     "library": "var_list.r",
     "varRefreshCmd": "cat(var_dic_list()) "
    }
   },
   "types_to_exclude": [
    "module",
    "function",
    "builtin_function_or_method",
    "instance",
    "_Feature"
   ],
   "window_display": false
  }
 },
 "nbformat": 4,
 "nbformat_minor": 5
}
